{
 "cells": [
  {
   "cell_type": "code",
   "execution_count": 1,
   "id": "9d92b31b-d064-4797-9ea7-fcfbe5e109b5",
   "metadata": {},
   "outputs": [],
   "source": [
    "import pickle\n",
    "import pandas as pd\n",
    "import numpy as np"
   ]
  },
  {
   "cell_type": "code",
   "execution_count": 47,
   "id": "1c4b1384-6033-4a2a-87bd-5489eaa51e1d",
   "metadata": {},
   "outputs": [],
   "source": [
    "with open('/g100_work/IscrC_mental/data/user_classification/user_age_gender_location_test_set.pkl', 'rb') as file:\n",
    "    data_test = pickle.load(file)\n",
    "    \n",
    "with open('/g100_work/IscrC_mental/data/user_classification/user_age_gender_location_train_set.pkl', 'rb') as file:\n",
    "    data_train = pickle.load(file)"
   ]
  },
  {
   "cell_type": "code",
   "execution_count": 3,
   "id": "73864b6f-1ef2-4578-a1e9-83ea601820e7",
   "metadata": {},
   "outputs": [],
   "source": []
  },
  {
   "cell_type": "code",
   "execution_count": 48,
   "id": "28235890-2c12-42e5-aa8e-7da86469fa07",
   "metadata": {},
   "outputs": [],
   "source": [
    "## our data age\n",
    "\n",
    "data = pd.concat([data_test, data_train], ignore_index = False)\n",
    "data['year_born'] = 2023 - data['age_in_2023']\n",
    "data = data[data['year_born'].isna()==False]"
   ]
  },
  {
   "cell_type": "code",
   "execution_count": 49,
   "id": "bd2998d8-388b-471b-8185-6f5ddeba220b",
   "metadata": {},
   "outputs": [
    {
     "name": "stderr",
     "output_type": "stream",
     "text": [
      "/scratch_local/slurm_job.11305772/ipykernel_14381/62729688.py:18: FutureWarning: The frame.append method is deprecated and will be removed from pandas in a future version. Use pandas.concat instead.\n",
      "  generation_counts = generation_counts.append({'Generation': generation, 'Count': count}, ignore_index=True)\n",
      "/scratch_local/slurm_job.11305772/ipykernel_14381/62729688.py:18: FutureWarning: The frame.append method is deprecated and will be removed from pandas in a future version. Use pandas.concat instead.\n",
      "  generation_counts = generation_counts.append({'Generation': generation, 'Count': count}, ignore_index=True)\n",
      "/scratch_local/slurm_job.11305772/ipykernel_14381/62729688.py:18: FutureWarning: The frame.append method is deprecated and will be removed from pandas in a future version. Use pandas.concat instead.\n",
      "  generation_counts = generation_counts.append({'Generation': generation, 'Count': count}, ignore_index=True)\n",
      "/scratch_local/slurm_job.11305772/ipykernel_14381/62729688.py:18: FutureWarning: The frame.append method is deprecated and will be removed from pandas in a future version. Use pandas.concat instead.\n",
      "  generation_counts = generation_counts.append({'Generation': generation, 'Count': count}, ignore_index=True)\n",
      "/scratch_local/slurm_job.11305772/ipykernel_14381/62729688.py:18: FutureWarning: The frame.append method is deprecated and will be removed from pandas in a future version. Use pandas.concat instead.\n",
      "  generation_counts = generation_counts.append({'Generation': generation, 'Count': count}, ignore_index=True)\n",
      "/scratch_local/slurm_job.11305772/ipykernel_14381/62729688.py:18: FutureWarning: The frame.append method is deprecated and will be removed from pandas in a future version. Use pandas.concat instead.\n",
      "  generation_counts = generation_counts.append({'Generation': generation, 'Count': count}, ignore_index=True)\n",
      "/scratch_local/slurm_job.11305772/ipykernel_14381/62729688.py:18: FutureWarning: The frame.append method is deprecated and will be removed from pandas in a future version. Use pandas.concat instead.\n",
      "  generation_counts = generation_counts.append({'Generation': generation, 'Count': count}, ignore_index=True)\n"
     ]
    }
   ],
   "source": [
    "## our data age\n",
    "\n",
    "generation_criteria = {\n",
    "    'Greatest Generation': (1901, 1927),\n",
    "    'Silent Generation': (1928, 1945),\n",
    "    'Baby Boomers': (1946, 1964),\n",
    "    'Generation X': (1965, 1980),\n",
    "    'Millennials': (1981, 1996),\n",
    "    'Generation Z': (1997, 2012),\n",
    "    'Generation Alpha': (2013, 2025)\n",
    "}\n",
    "\n",
    "generation_counts = pd.DataFrame(columns=['Generation', 'Count'])\n",
    "\n",
    "\n",
    "for generation, (start_year, end_year) in generation_criteria.items():\n",
    "    count = data[(data['year_born'] >= start_year) & (data['year_born'] <= end_year)].shape[0]\n",
    "    generation_counts = generation_counts.append({'Generation': generation, 'Count': count}, ignore_index=True)\n"
   ]
  },
  {
   "cell_type": "code",
   "execution_count": null,
   "id": "7dd13756-7b99-4ed0-9be5-06ebbb3766a2",
   "metadata": {},
   "outputs": [],
   "source": []
  },
  {
   "cell_type": "code",
   "execution_count": 50,
   "id": "d7cb73a0-0e1f-4ce6-8f41-416d8fc9b622",
   "metadata": {},
   "outputs": [],
   "source": [
    "## our data age\n",
    "generation_counts['Share'] = (generation_counts['Count']/generation_counts['Count'].sum()*100).astype(float).round(0)\n",
    "generation_counts = generation_counts[2:6]\n",
    "other_category = pd.DataFrame({'Generation': ['Other'], 'Count': [0],'Share': [100 - generation_counts['Share'].sum()]})\n",
    "generation_counts = pd.concat([generation_counts, other_category], ignore_index=True)"
   ]
  },
  {
   "cell_type": "code",
   "execution_count": 51,
   "id": "1953a698-210b-47bd-b799-903eb08fc2bd",
   "metadata": {},
   "outputs": [],
   "source": [
    "## statista age\n",
    "Generation = ['Baby Boomers',  'Generation X','Millennials' ,'Generation Z', 'Other' ]\n",
    "Share = [12,38,31,19,np.nan]\n",
    "generation_counts_statista = pd.DataFrame({'Generation': Generation, 'Share': Share})"
   ]
  },
  {
   "cell_type": "code",
   "execution_count": 52,
   "id": "8c61e722-a683-4aab-8f48-004a8bdc2bd5",
   "metadata": {},
   "outputs": [],
   "source": [
    "## our data gender\n",
    "gender_counts = data['is_male'].value_counts().reset_index()\n",
    "gender_counts.columns = ['Gender', 'Count data']\n",
    "\n",
    "gender_counts['Gender'] = ['Male', 'Female']\n",
    "gender_counts['Share data']=(gender_counts['Count data']/gender_counts['Count data'].sum()*100)\n"
   ]
  },
  {
   "cell_type": "code",
   "execution_count": 53,
   "id": "8b09d305-9042-4c23-804c-2616b7be8936",
   "metadata": {},
   "outputs": [],
   "source": [
    "gender_counts['Share data'] = gender_counts['Share data'].apply(lambda x: 63 if x >= 62 else 37)"
   ]
  },
  {
   "cell_type": "code",
   "execution_count": 54,
   "id": "e77af57d-5f82-4451-9b80-39742b7497e4",
   "metadata": {},
   "outputs": [
    {
     "data": {
      "text/html": [
       "<div>\n",
       "<style scoped>\n",
       "    .dataframe tbody tr th:only-of-type {\n",
       "        vertical-align: middle;\n",
       "    }\n",
       "\n",
       "    .dataframe tbody tr th {\n",
       "        vertical-align: top;\n",
       "    }\n",
       "\n",
       "    .dataframe thead th {\n",
       "        text-align: right;\n",
       "    }\n",
       "</style>\n",
       "<table border=\"1\" class=\"dataframe\">\n",
       "  <thead>\n",
       "    <tr style=\"text-align: right;\">\n",
       "      <th></th>\n",
       "      <th>Gender</th>\n",
       "      <th>Count data</th>\n",
       "      <th>Share data</th>\n",
       "    </tr>\n",
       "  </thead>\n",
       "  <tbody>\n",
       "    <tr>\n",
       "      <th>0</th>\n",
       "      <td>Male</td>\n",
       "      <td>11645</td>\n",
       "      <td>63</td>\n",
       "    </tr>\n",
       "    <tr>\n",
       "      <th>1</th>\n",
       "      <td>Female</td>\n",
       "      <td>6994</td>\n",
       "      <td>37</td>\n",
       "    </tr>\n",
       "  </tbody>\n",
       "</table>\n",
       "</div>"
      ],
      "text/plain": [
       "   Gender  Count data  Share data\n",
       "0    Male       11645          63\n",
       "1  Female        6994          37"
      ]
     },
     "execution_count": 54,
     "metadata": {},
     "output_type": "execute_result"
    }
   ],
   "source": [
    "gender_counts"
   ]
  },
  {
   "cell_type": "code",
   "execution_count": 55,
   "id": "54f8f9a8-2845-41f2-9e1b-949d97ef3f66",
   "metadata": {},
   "outputs": [],
   "source": [
    "## book gender data\n",
    "\n",
    "Geolocalized = ['Y','N', 'Total']\n",
    "Male = [1040855, 5218975, 6259830]\n",
    "Female = [505790, 2555489, 3061279]\n",
    "Unknown = [505790, 2555489, 3061279]\n",
    "\n",
    "gender_counts_statista = pd.DataFrame({'Geolocalized': Geolocalized, 'Male': Male, 'Female':Female, 'Unknown':Unknown})"
   ]
  },
  {
   "cell_type": "code",
   "execution_count": 56,
   "id": "fc14d36b-6101-4cac-8895-065dd1bc63ff",
   "metadata": {},
   "outputs": [
    {
     "data": {
      "text/html": [
       "<div>\n",
       "<style scoped>\n",
       "    .dataframe tbody tr th:only-of-type {\n",
       "        vertical-align: middle;\n",
       "    }\n",
       "\n",
       "    .dataframe tbody tr th {\n",
       "        vertical-align: top;\n",
       "    }\n",
       "\n",
       "    .dataframe thead th {\n",
       "        text-align: right;\n",
       "    }\n",
       "</style>\n",
       "<table border=\"1\" class=\"dataframe\">\n",
       "  <thead>\n",
       "    <tr style=\"text-align: right;\">\n",
       "      <th></th>\n",
       "      <th>Geolocalized</th>\n",
       "      <th>Male</th>\n",
       "      <th>Female</th>\n",
       "      <th>Unknown</th>\n",
       "    </tr>\n",
       "  </thead>\n",
       "  <tbody>\n",
       "    <tr>\n",
       "      <th>0</th>\n",
       "      <td>Y</td>\n",
       "      <td>1040855</td>\n",
       "      <td>505790</td>\n",
       "      <td>505790</td>\n",
       "    </tr>\n",
       "    <tr>\n",
       "      <th>1</th>\n",
       "      <td>N</td>\n",
       "      <td>5218975</td>\n",
       "      <td>2555489</td>\n",
       "      <td>2555489</td>\n",
       "    </tr>\n",
       "    <tr>\n",
       "      <th>2</th>\n",
       "      <td>Total</td>\n",
       "      <td>6259830</td>\n",
       "      <td>3061279</td>\n",
       "      <td>3061279</td>\n",
       "    </tr>\n",
       "  </tbody>\n",
       "</table>\n",
       "</div>"
      ],
      "text/plain": [
       "  Geolocalized     Male   Female  Unknown\n",
       "0            Y  1040855   505790   505790\n",
       "1            N  5218975  2555489  2555489\n",
       "2        Total  6259830  3061279  3061279"
      ]
     },
     "execution_count": 56,
     "metadata": {},
     "output_type": "execute_result"
    }
   ],
   "source": [
    "gender_counts_statista"
   ]
  },
  {
   "cell_type": "code",
   "execution_count": 57,
   "id": "25efd02c-a678-4cea-8b3f-a2401a69d0c0",
   "metadata": {},
   "outputs": [],
   "source": [
    "## making i dataset for gender data\n",
    "gender_counts['Count book'] = [gender_counts_statista['Male'][2],gender_counts_statista['Female'][2]]\n",
    "gender_counts['Share book']=(gender_counts['Count book']/gender_counts['Count book'].sum()*100)\n"
   ]
  },
  {
   "cell_type": "code",
   "execution_count": 58,
   "id": "c5561079-56d8-4f14-8dbc-1441cef3b400",
   "metadata": {},
   "outputs": [],
   "source": [
    "gender_counts['Share book'] = gender_counts['Share book'].apply(lambda x: 67 if x >= 65 else 33)"
   ]
  },
  {
   "cell_type": "code",
   "execution_count": 59,
   "id": "cb066af8-3604-4fc8-9a82-92423c2d9216",
   "metadata": {},
   "outputs": [
    {
     "data": {
      "text/plain": [
       "Index(['Gender', 'Count data', 'Share data', 'Count book', 'Share book'], dtype='object')"
      ]
     },
     "execution_count": 59,
     "metadata": {},
     "output_type": "execute_result"
    }
   ],
   "source": [
    "gender_counts.columns"
   ]
  },
  {
   "cell_type": "code",
   "execution_count": 60,
   "id": "97a5809e-bcf7-4788-95a6-75ddb4b9d16c",
   "metadata": {},
   "outputs": [
    {
     "data": {
      "text/html": [
       "<div>\n",
       "<style scoped>\n",
       "    .dataframe tbody tr th:only-of-type {\n",
       "        vertical-align: middle;\n",
       "    }\n",
       "\n",
       "    .dataframe tbody tr th {\n",
       "        vertical-align: top;\n",
       "    }\n",
       "\n",
       "    .dataframe thead th {\n",
       "        text-align: right;\n",
       "    }\n",
       "</style>\n",
       "<table border=\"1\" class=\"dataframe\">\n",
       "  <thead>\n",
       "    <tr style=\"text-align: right;\">\n",
       "      <th></th>\n",
       "      <th>Gender</th>\n",
       "      <th>Count data</th>\n",
       "      <th>Share data</th>\n",
       "      <th>Count book</th>\n",
       "      <th>Share book</th>\n",
       "    </tr>\n",
       "  </thead>\n",
       "  <tbody>\n",
       "    <tr>\n",
       "      <th>0</th>\n",
       "      <td>Male</td>\n",
       "      <td>11645</td>\n",
       "      <td>63</td>\n",
       "      <td>6259830</td>\n",
       "      <td>67</td>\n",
       "    </tr>\n",
       "    <tr>\n",
       "      <th>1</th>\n",
       "      <td>Female</td>\n",
       "      <td>6994</td>\n",
       "      <td>37</td>\n",
       "      <td>3061279</td>\n",
       "      <td>33</td>\n",
       "    </tr>\n",
       "  </tbody>\n",
       "</table>\n",
       "</div>"
      ],
      "text/plain": [
       "   Gender  Count data  Share data  Count book  Share book\n",
       "0    Male       11645          63     6259830          67\n",
       "1  Female        6994          37     3061279          33"
      ]
     },
     "execution_count": 60,
     "metadata": {},
     "output_type": "execute_result"
    }
   ],
   "source": [
    "gender_counts"
   ]
  },
  {
   "cell_type": "code",
   "execution_count": 61,
   "id": "dadcc42c-ad26-435d-b2b1-4b0a946dc3e9",
   "metadata": {},
   "outputs": [
    {
     "data": {
      "text/plain": [
       "67"
      ]
     },
     "execution_count": 61,
     "metadata": {},
     "output_type": "execute_result"
    }
   ],
   "source": [
    "gender_counts['Share book'][0]"
   ]
  },
  {
   "cell_type": "code",
   "execution_count": 62,
   "id": "c3236899-da76-46d8-a76a-f9c00798ff1c",
   "metadata": {},
   "outputs": [
    {
     "data": {
      "image/png": "[encoded data removed]",
      "text/plain": [
       "<Figure size 1000x400 with 1 Axes>"
      ]
     },
     "metadata": {},
     "output_type": "display_data"
    },
    {
     "data": {
      "image/png": "[encoded data removed]",
      "text/plain": [
       "<Figure size 1000x400 with 1 Axes>"
      ]
     },
     "metadata": {},
     "output_type": "display_data"
    }
   ],
   "source": [
    "import matplotlib.pyplot as plt\n",
    "import numpy as np\n",
    "\n",
    "groups = ['Statista \\n (2023)', 'Our Data']\n",
    "generation_list = generation_counts['Generation'].tolist()\n",
    "values = []\n",
    "\n",
    "for i in generation_list:\n",
    "    i_values = [\n",
    "        generation_counts_statista[generation_counts_statista['Generation'] == i]['Share'].values[0],\n",
    "        generation_counts[generation_counts['Generation'] == i]['Share'].values[0]\n",
    "    ]\n",
    "    values.append(i_values)\n",
    "\n",
    "fig, ax = plt.subplots(figsize=(10, 4))\n",
    "\n",
    "colors = ['#87CEEB', '#87CEFA', '#1E90FF', '#4169E1', '#00008B']\n",
    "\n",
    "num_bars = len(groups)\n",
    "\n",
    "for i in range(0, 5):\n",
    "    bottom_values = [0, 0]\n",
    "    for j in range(i):\n",
    "        bottom_values = [x + y for x, y in zip(bottom_values, values[j])]\n",
    "    bars = ax.barh(groups, values[i], left=bottom_values, label=generation_list[i], color=colors[i], edgecolor=\"white\", linewidth=2, height=0.6)\n",
    "    for bar in bars:\n",
    "        width = bar.get_width() \n",
    "        label = f'{int(width):d}%' if not np.isnan(width) else ''  # Check for NaN values\n",
    "        plt.text(\n",
    "            bar.get_x() + width / 2,\n",
    "            bar.get_y() + bar.get_height() / 2,\n",
    "            label,\n",
    "            ha='center',\n",
    "            va='center',\n",
    "            color='w',\n",
    "            weight='bold',\n",
    "            size=10\n",
    "        )\n",
    "\n",
    "plt.text(\n",
    "    (( bars[-1].get_x())) / 2,\n",
    "    0.65, \n",
    "    'Our Data',\n",
    "    ha='center',\n",
    "    va='center',\n",
    "    color='black',\n",
    "    size=10\n",
    ")   \n",
    "\n",
    "plt.text(\n",
    "    (( bars[-1].get_x())) / 2,\n",
    "    -0.35, \n",
    "    'Statista (2023)',\n",
    "    ha='center',\n",
    "    va='center',\n",
    "    color='black',\n",
    "    size=10\n",
    ")  \n",
    "  \n",
    "    \n",
    "plt.text(\n",
    "    (( bars[-1].get_x())) / 2,\n",
    "    -0.55, \n",
    "    'Share (in %)',\n",
    "    ha='center',\n",
    "    va='center',\n",
    "    color='black',\n",
    "    size=10,\n",
    "    weight='bold' \n",
    ")  \n",
    "\n",
    "plt.gca().spines['top'].set_visible(False)\n",
    "plt.gca().spines['bottom'].set_visible(False)\n",
    "plt.gca().spines['left'].set_visible(False)\n",
    "plt.gca().spines['right'].set_visible(False)\n",
    "\n",
    "plt.xticks([])\n",
    "plt.yticks([])\n",
    "\n",
    "ax.legend(generation_list[0:5], loc='upper left', bbox_to_anchor=(0.1, -0.15), ncol=2, handlelength=3, frameon=False)\n",
    "\n",
    "plt.title('Distribution of Twitter Users by Generation', fontweight='bold')\n",
    "\n",
    "plt.savefig('generation.eps')\n",
    "plt.savefig('generation.png', bbox_inches='tight')\n",
    "\n",
    "groups = ['Paper', 'Our dataset']\n",
    "values_male =[ gender_counts['Share book'][0], gender_counts['Share data'][0]]\n",
    "values_female =[gender_counts['Share book'][1], gender_counts['Share data'][1]]\n",
    "values = [values_male,values_female ]\n",
    "\n",
    "\n",
    "\n",
    "fig, ax = plt.subplots(figsize=(10, 4))\n",
    "\n",
    "colors = [ '#87CEEB', '#4169E1']\n",
    "\n",
    "ax.barh(groups, values_male, label='Male', color=colors[0], edgecolor=\"white\", linewidth=2, height = 0.6)\n",
    "ax.barh(groups, values_female, label='female',  left = values_male, color=colors[1], edgecolor=\"white\", linewidth=2, height = 0.6)\n",
    "\n",
    "for bar in ax.patches:\n",
    "    label = f'{int(bar.get_width()):d}%' \n",
    "    plt.text(\n",
    "        bar.get_x() + bar.get_width() / 2,\n",
    "        bar.get_y() + bar.get_height() / 2,\n",
    "        label,\n",
    "        ha='center',\n",
    "        va='center',\n",
    "        color='w',\n",
    "        weight='bold',\n",
    "        size=10\n",
    "    )\n",
    "\n",
    "    \n",
    "plt.text(\n",
    "    (( bars[-1].get_x())) / 2,\n",
    "    0.65, \n",
    "    'Our Data',\n",
    "    ha='center',\n",
    "    va='center',\n",
    "    color='black',\n",
    "    size=10\n",
    ")   \n",
    "\n",
    "plt.text(\n",
    "    (( bars[-1].get_x())) / 2,\n",
    "    -0.35, \n",
    "    'Alessandra et al. (2019)',\n",
    "    ha='center',\n",
    "    va='center',\n",
    "    color='black',\n",
    "    size=10\n",
    ")  \n",
    "  \n",
    "    \n",
    "plt.text(\n",
    "    (( bars[-1].get_x())) / 2,\n",
    "    -0.55, \n",
    "    'Share (in %)',\n",
    "    ha='center',\n",
    "    va='center',\n",
    "    color='black',\n",
    "    size=10,\n",
    "    weight='bold' \n",
    ")      \n",
    "    \n",
    "    \n",
    "\n",
    "plt.gca().spines['top'].set_visible(False)\n",
    "plt.gca().spines['bottom'].set_visible(False)\n",
    "plt.gca().spines['left'].set_visible(False)\n",
    "plt.gca().spines['right'].set_visible(False)\n",
    "    \n",
    "plt.xticks([])\n",
    "plt.yticks([])\n",
    "\n",
    "\n",
    "ax.legend(['Male', 'Female'], loc='upper left', bbox_to_anchor=(0.1, -0.15), ncol=2, handlelength=3, frameon=False)\n",
    "\n",
    "\n",
    "plt.title('Distribution of Twitter Users by Gender', fontweight='bold')\n",
    "\n",
    "\n",
    "plt.savefig('gender.eps')\n",
    "plt.savefig('gender.png', bbox_inches='tight')\n",
    "\n",
    "\n",
    "plt.show()\n",
    "plt.close()\n",
    "\n"
   ]
  },
  {
   "cell_type": "code",
   "execution_count": 12,
   "id": "350c85b6-eb9d-4207-af37-57923e448075",
   "metadata": {},
   "outputs": [],
   "source": [
    "#### y labels on the right "
   ]
  },
  {
   "cell_type": "code",
   "execution_count": 15,
   "id": "0799ed81-7f9e-4eb6-9fc8-229dfaee505e",
   "metadata": {},
   "outputs": [
    {
     "data": {
      "image/png": "[encoded data removed]",
      "text/plain": [
       "<Figure size 1000x400 with 1 Axes>"
      ]
     },
     "metadata": {},
     "output_type": "display_data"
    },
    {
     "data": {
      "image/png": "[encoded data removed]",
      "text/plain": [
       "<Figure size 1000x400 with 1 Axes>"
      ]
     },
     "metadata": {},
     "output_type": "display_data"
    }
   ],
   "source": [
    "import matplotlib.pyplot as plt\n",
    "import numpy as np\n",
    "\n",
    "groups = ['Statista \\n (2023)', 'Our Data']\n",
    "generation_list = generation_counts['Generation'].tolist()\n",
    "values = []\n",
    "\n",
    "for i in generation_list:\n",
    "    i_values = [\n",
    "        generation_counts_statista[generation_counts_statista['Generation'] == i]['Share'].values[0],\n",
    "        generation_counts[generation_counts['Generation'] == i]['Share'].values[0]\n",
    "    ]\n",
    "    values.append(i_values)\n",
    "\n",
    "fig, ax = plt.subplots(figsize=(10, 4))\n",
    "\n",
    "colors = ['#87CEEB', '#87CEFA', '#1E90FF', '#4169E1', '#00008B']\n",
    "\n",
    "num_bars = len(groups)\n",
    "\n",
    "for i in range(0, 5):\n",
    "    bottom_values = [0, 0]\n",
    "    for j in range(i):\n",
    "        bottom_values = [x + y for x, y in zip(bottom_values, values[j])]\n",
    "    bars = ax.barh(groups, values[i], left=bottom_values, label=generation_list[i], color=colors[i], edgecolor=\"white\", linewidth=2, height=0.6)\n",
    "    for bar in bars:\n",
    "        width = bar.get_width() \n",
    "        label = f'{int(width):d}%' if not np.isnan(width) else ''  # Check for NaN values\n",
    "        plt.text(\n",
    "            bar.get_x() + width / 2,\n",
    "            bar.get_y() + bar.get_height() / 2,\n",
    "            label,\n",
    "            ha='center',\n",
    "            va='center',\n",
    "            color='w',\n",
    "            weight='bold',\n",
    "            size=10\n",
    "        )\n",
    "\n",
    "  \n",
    "    \n",
    "plt.text(\n",
    "    (( bars[-1].get_x())) / 2,\n",
    "    -0.55, \n",
    "    'Share (in %)',\n",
    "    ha='center',\n",
    "    va='center',\n",
    "    color='black',\n",
    "    size=10,\n",
    "    weight='bold' \n",
    ")  \n",
    "\n",
    "plt.gca().spines['top'].set_visible(False)\n",
    "plt.gca().spines['bottom'].set_visible(False)\n",
    "plt.gca().spines['left'].set_visible(False)\n",
    "plt.gca().spines['right'].set_visible(False)\n",
    "\n",
    "plt.xticks([])\n",
    "plt.tick_params(axis='y', which='both', left=False)\n",
    "\n",
    "ax.legend(generation_list[0:5], loc='upper left', bbox_to_anchor=(0.1, -0.15), ncol=2, handlelength=3, frameon=False)\n",
    "\n",
    "plt.title('Distribution of Twitter Users by Generation', fontweight='bold')\n",
    "\n",
    "plt.savefig('generation.eps', bbox_inches='tight')\n",
    "\n",
    "groups = ['Alessandra et al.\\n (2019)', 'Our Data']\n",
    "values_male =[gender_counts['Share data'][0], gender_counts['Share book'][0]]\n",
    "values_female =[gender_counts['Share data'][1], gender_counts['Share book'][1]]\n",
    "values = [values_male,values_female ]\n",
    "\n",
    "\n",
    "\n",
    "fig, ax = plt.subplots(figsize=(10, 4))\n",
    "\n",
    "colors = [ '#87CEEB', '#4169E1']\n",
    "\n",
    "ax.barh(groups, values_male, label='Male', color=colors[0], edgecolor=\"white\", linewidth=2, height = 0.6)\n",
    "ax.barh(groups, values_female, label='female',  left = values_male, color=colors[1], edgecolor=\"white\", linewidth=2, height = 0.6)\n",
    "\n",
    "for bar in ax.patches:\n",
    "    label = f'{int(bar.get_width()):d}%' \n",
    "    plt.text(\n",
    "        bar.get_x() + bar.get_width() / 2,\n",
    "        bar.get_y() + bar.get_height() / 2,\n",
    "        label,\n",
    "        ha='center',\n",
    "        va='center',\n",
    "        color='w',\n",
    "        weight='bold',\n",
    "        size=10\n",
    "    )\n",
    "\n",
    "    \n",
    "  \n",
    "    \n",
    "plt.text(\n",
    "    (( bars[-1].get_x())) / 2,\n",
    "    -0.55, \n",
    "    'Share (in %)',\n",
    "    ha='center',\n",
    "    va='center',\n",
    "    color='black',\n",
    "    size=10,\n",
    "    weight='bold' \n",
    ")      \n",
    "    \n",
    "    \n",
    "\n",
    "plt.gca().spines['top'].set_visible(False)\n",
    "plt.gca().spines['bottom'].set_visible(False)\n",
    "plt.gca().spines['left'].set_visible(False)\n",
    "plt.gca().spines['right'].set_visible(False)\n",
    "    \n",
    "plt.xticks([])\n",
    "plt.tick_params(axis='y', which='both', left=False)\n",
    "\n",
    "\n",
    "ax.legend(['Male', 'Female'], loc='upper left', bbox_to_anchor=(0.1, -0.15), ncol=2, handlelength=3, frameon=False)\n",
    "\n",
    "\n",
    "plt.title('Distribution of Twitter Users by Gender', fontweight='bold')\n",
    "\n",
    "\n",
    "plt.savefig('gender.eps', bbox_inches='tight')\n",
    "\n",
    "\n",
    "plt.show()\n",
    "plt.close()"
   ]
  },
  {
   "cell_type": "code",
   "execution_count": null,
   "id": "4e090ebe-818d-47f6-a104-bef473c04e3d",
   "metadata": {},
   "outputs": [],
   "source": []
  },
  {
   "cell_type": "code",
   "execution_count": null,
   "id": "2d3f473a-25f6-4e04-b70e-a6f7493945e8",
   "metadata": {},
   "outputs": [],
   "source": []
  },
  {
   "cell_type": "code",
   "execution_count": null,
   "id": "7fdcde80-5a66-426d-955d-dac20f0bda38",
   "metadata": {},
   "outputs": [],
   "source": []
  }
 ],
 "metadata": {
  "kernelspec": {
   "display_name": "DASK 2022.10 (Python 3.10)",
   "language": "python",
   "name": "python3"
  },
  "language_info": {
   "codemirror_mode": {
    "name": "ipython",
    "version": 3
   },
   "file_extension": ".py",
   "mimetype": "text/x-python",
   "name": "python",
   "nbconvert_exporter": "python",
   "pygments_lexer": "ipython3",
   "version": "3.10.6"
  }
 },
 "nbformat": 4,
 "nbformat_minor": 5
}
