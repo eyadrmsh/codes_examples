{
 "cells": [
  {
   "cell_type": "code",
   "execution_count": 2,
   "id": "5e8fecce-e975-408c-bd4f-044892350895",
   "metadata": {},
   "outputs": [],
   "source": [
    "import pandas as pd\n",
    "import re\n",
    "from tqdm import tqdm\n",
    "import time\n",
    "import numpy as np"
   ]
  },
  {
   "cell_type": "markdown",
   "id": "fa22be25",
   "metadata": {},
   "source": [
    "Cresci Dataset"
   ]
  },
  {
   "cell_type": "code",
   "execution_count": 39,
   "id": "b9545c1e-3c6a-4977-8c79-34a27236acf5",
   "metadata": {},
   "outputs": [
    {
     "name": "stderr",
     "output_type": "stream",
     "text": [
      "/var/folders/cn/hl5lj7gd17bft8_srrs_2zvr0000gn/T/ipykernel_64002/3289021857.py:1: DtypeWarning: Columns (10,29,30,34) have mixed types. Specify dtype option on import or set low_memory=False.\n",
      "  df = pd.read_csv('all_tweets_cresci.csv')\n"
     ]
    }
   ],
   "source": [
    "df = pd.read_csv('all_tweets_cresci.csv')"
   ]
  },
  {
   "cell_type": "code",
   "execution_count": 42,
   "id": "b6b9c7de-ba45-4b63-b632-3cf49e0110ed",
   "metadata": {},
   "outputs": [],
   "source": [
    "## Data preprocessing\n",
    "df['user_id'] = df['user_id'].astype(int).astype(str)\n",
    "list = df['user_id'].unique()\n",
    "df_users = pd.DataFrame(list)\n",
    "df_users.rename(columns={0: 'user_id'}, inplace=True)\n",
    "df_users = pd.merge(df_users, df[['name', 'screen_name', 'location', 'description', 'following', 'created_at_user', 'friends_count', 'lang', 'user_id', 'db']], on= 'user_id', how = 'left')\n",
    "df_users = df_users.drop_duplicates(subset='user_id')\n"
   ]
  },
  {
   "cell_type": "code",
   "execution_count": 44,
   "id": "0b57d1b0-1b08-408c-96b8-4c51d263a7cf",
   "metadata": {},
   "outputs": [],
   "source": [
    "## creating tweet_counts for 15_min interval\n",
    "df['timestamp'] = pd.to_datetime(df['timestamp'])\n",
    "df['rounded_15min'] = df['timestamp'].dt.floor('15min')\n",
    "tweet_counts = df.groupby(['user_id', 'rounded_15min']).size().reset_index(name='tweet_count')"
   ]
  },
  {
   "cell_type": "code",
   "execution_count": 46,
   "id": "81fffa7f-3c07-4e0f-b294-a772dbb25d5d",
   "metadata": {},
   "outputs": [],
   "source": [
    "##15_min_summary\n",
    "user_summary_15min = tweet_counts.groupby('user_id')['tweet_count'].agg(['sum','max', 'min']).reset_index()\n",
    "user_summary_15min.rename(columns={'sum': 'total_tweets_15min','max': 'max_tweets_15min', 'min': 'min_tweets_15min'}, inplace=True)\n",
    "df_users = df_users.merge(user_summary_15min, on='user_id', how='left')"
   ]
  },
  {
   "cell_type": "code",
   "execution_count": 47,
   "id": "07f4e389-832d-45b0-b3dc-42111cb2e9c9",
   "metadata": {},
   "outputs": [],
   "source": [
    "### mean number of words in tweet\n",
    "df['text'] = df['text'].apply(lambda x: str(x) if isinstance(x, (str, float)) else '')\n",
    "df['word_count'] = df['text'].str.split().apply(len)\n",
    "ser_mean_word_count = df.groupby('user_id')['word_count'].agg(['mean','std']).reset_index()\n",
    "ser_mean_word_count.rename(columns={'mean': 'mean_word_count','std':'std_word_count'}, inplace=True)\n",
    "df_users = df_users.merge(ser_mean_word_count, on='user_id', how='left')"
   ]
  },
  {
   "cell_type": "code",
   "execution_count": 50,
   "id": "fdf73e8e-9d8f-4e85-b9de-67f5e471639f",
   "metadata": {},
   "outputs": [],
   "source": [
    "### retweeted count\n",
    "retweeted_count = df.groupby('user_id')['retweet_count'].agg(['mean', 'std']).reset_index()\n",
    "retweeted_count.rename(columns={'mean': 'mean_retweet_count','std':'std_retweet_count'}, inplace=True)\n",
    "df_users = df_users.merge(retweeted_count, on='user_id', how='left')"
   ]
  },
  {
   "cell_type": "code",
   "execution_count": 51,
   "id": "9b5eb9fe-c86a-4072-ba90-3acbd2283e0e",
   "metadata": {},
   "outputs": [],
   "source": [
    "## Mentions\n",
    "df['mentions_count'] = df['text'].str.count('@')\n",
    "mentions_count = df.groupby('user_id')['mentions_count'].agg(['mean', 'std']).reset_index()\n",
    "mentions_count.rename(columns={'mean': 'mean_mentions_count', 'std':'std_mentions_count'}, inplace=True)\n",
    "df_users = df_users.merge(mentions_count, on='user_id', how='left')"
   ]
  },
  {
   "cell_type": "code",
   "execution_count": 52,
   "id": "a6037f83-eb2a-46e6-97b2-a4874753944a",
   "metadata": {},
   "outputs": [],
   "source": [
    "## Hashtags\n",
    "df['hashtags_counts'] = df['text'].str.count('#')\n",
    "hashtag_count = df.groupby('user_id')['mentions_count'].agg(['mean', 'std']).reset_index()\n",
    "hashtag_count.rename(columns={'mean': 'mean_hashtag_count', 'std':'std_hashtag_count'}, inplace=True)\n",
    "df_users = df_users.merge(hashtag_count, on='user_id', how='left')"
   ]
  },
  {
   "cell_type": "code",
   "execution_count": 53,
   "id": "ffe40d32-fbed-4758-aa90-1ae05557c7c6",
   "metadata": {},
   "outputs": [],
   "source": [
    "## URls\n",
    "df['urls_counts'] = df['text'].str.count('http')\n",
    "hashtag_count = df.groupby('user_id')['urls_counts'].agg(['mean', 'std']).reset_index()\n",
    "hashtag_count.rename(columns={'mean': 'mean_urls_count', 'std':'std_urls_count'}, inplace=True)\n",
    "df_users = df_users.merge(hashtag_count, on='user_id', how='left')\n"
   ]
  },
  {
   "cell_type": "code",
   "execution_count": 54,
   "id": "e50ef72d-e44f-4de6-8e46-4e3c702ceb6f",
   "metadata": {},
   "outputs": [
    {
     "data": {
      "text/plain": [
       "array(['genuine', 'social_tweets1', 'social_tweets2',\n",
       "       'traditional_spambots1'], dtype=object)"
      ]
     },
     "execution_count": 54,
     "metadata": {},
     "output_type": "execute_result"
    }
   ],
   "source": [
    "### types of tweets, genuine - real tweets, social_tweets1, social_tweets2 - spambots that look like real people, 'traditional_spambots1'\n",
    "df_users['db'].unique()"
   ]
  },
  {
   "cell_type": "code",
   "execution_count": 56,
   "id": "08a2aac9-4089-40a8-bb1b-04a1392ccffe",
   "metadata": {},
   "outputs": [],
   "source": [
    "df_users.to_csv('users_with_variables.csv')"
   ]
  },
  {
   "cell_type": "code",
   "execution_count": null,
   "id": "32f0c345-32a1-4822-bab9-bdbcb891107f",
   "metadata": {},
   "outputs": [],
   "source": [
    "###### problem with dataset: not a lot of genuine users 437 "
   ]
  },
  {
   "cell_type": "code",
   "execution_count": 74,
   "id": "1eaba4fd-a0d7-44ee-83f1-9a03ed720cc0",
   "metadata": {},
   "outputs": [
    {
     "data": {
      "text/plain": [
       "437"
      ]
     },
     "execution_count": 74,
     "metadata": {},
     "output_type": "execute_result"
    }
   ],
   "source": [
    "len(df_users[df_users['db']=='genuine'])"
   ]
  },
  {
   "cell_type": "markdown",
   "id": "35d179d9",
   "metadata": {},
   "source": [
    "Caverlee 2011"
   ]
  },
  {
   "cell_type": "code",
   "execution_count": 109,
   "id": "3ae0daa6-141b-4d15-bd49-39e00ea429a7",
   "metadata": {},
   "outputs": [],
   "source": [
    "file_path = 'legitimate_users.txt'\n",
    "df_legit_users = pd.read_csv(file_path, delimiter='\\t', header=None)\n",
    "df_legit_users.columns = ['userid','created_at','collected_at','following','followers','number_of_tweets','length_screen_name','length_description']"
   ]
  },
  {
   "cell_type": "code",
   "execution_count": 110,
   "id": "126b7bd4-8d03-42d0-94d8-dad5b83589a6",
   "metadata": {},
   "outputs": [],
   "source": [
    "file_path = 'legitimate_users_tweets.txt'\n",
    "df_legit_tweets = pd.read_csv(file_path, delimiter='\\t', header=None)\n",
    "df_legit_tweets.columns = ['userid','tweetid','text','tweet_created_at']"
   ]
  },
  {
   "cell_type": "code",
   "execution_count": 113,
   "id": "ce24ee27-deb3-4658-9907-e08bbe3d1bde",
   "metadata": {},
   "outputs": [],
   "source": [
    "file_path = 'content_polluters.txt'\n",
    "df_bots_users = pd.read_csv(file_path, delimiter='\\t', header=None)\n",
    "df_bots_users.columns = ['userid','created_at','collected_at','following','followers','number_of_tweets','length_screen_name','length_description']"
   ]
  },
  {
   "cell_type": "code",
   "execution_count": 114,
   "id": "2fc55b32-7474-47c7-8588-33563dc9fb15",
   "metadata": {},
   "outputs": [],
   "source": [
    "file_path = 'content_polluters_tweets.txt'\n",
    "df_bots_tweets = pd.read_csv(file_path, delimiter='\\t', header=None)\n",
    "df_bots_tweets.columns = ['userid','tweetid','text','tweet_created_at']"
   ]
  },
  {
   "cell_type": "code",
   "execution_count": 115,
   "id": "1b75db21-e737-411e-a98e-8e212a383cc9",
   "metadata": {},
   "outputs": [],
   "source": [
    "## creating labels\n",
    "df_bots_tweets['bot']=1\n",
    "df_bots_users['bot']=1\n",
    "df_legit_tweets['bot']=0\n",
    "df_legit_users['bot']=0"
   ]
  },
  {
   "cell_type": "code",
   "execution_count": 116,
   "id": "18a54cb9-7b61-445b-8c67-d2ad1cc3546b",
   "metadata": {},
   "outputs": [],
   "source": [
    "## merging into users and tweets df\n",
    "users = pd.concat([df_bots_users, df_legit_users], axis = 0)\n",
    "tweets = pd.concat([df_legit_tweets, df_bots_tweets], axis = 0)"
   ]
  },
  {
   "cell_type": "code",
   "execution_count": 117,
   "id": "a44422e4-0908-48d6-9c22-039b1f8fc3e3",
   "metadata": {},
   "outputs": [],
   "source": [
    "## seems like two datasets do not concide perfectly \n",
    "users_new = users.merge(tweets[['userid']], on='userid')\n",
    "users_new = users_new.drop_duplicates()\n",
    "tweets_new = tweets.merge(users[['userid']], on='userid')\n",
    "tweets_new = tweets_new.drop_duplicates()"
   ]
  },
  {
   "cell_type": "code",
   "execution_count": 118,
   "id": "47110e34-c138-436a-894c-53211165cb2b",
   "metadata": {},
   "outputs": [
    {
     "name": "stdout",
     "output_type": "stream",
     "text": [
      "41499 39897\n",
      "5580068 5579692\n"
     ]
    }
   ],
   "source": [
    "print(len(users), len(users_new))\n",
    "print(len(tweets), len(tweets_new))"
   ]
  },
  {
   "cell_type": "code",
   "execution_count": 119,
   "id": "a7ccc323-5a90-4228-86aa-df87a7cfd1b5",
   "metadata": {},
   "outputs": [],
   "source": [
    "### there are some users that were detected as bots and genuine users in different time, approx 50 of them, lets delete them\n",
    "df = users_new.groupby('userid').size().reset_index(name='count')\n",
    "df_to_delete = df[df['count']>1]\n",
    "\n",
    "\n",
    "users_new = users_new.merge(df_to_delete[['userid']], on='userid', how='left', indicator=True)\n",
    "users_new = users_new[users_new['_merge'] == 'left_only']\n",
    "users_new.drop('_merge', axis=1, inplace=True)\n",
    "\n",
    "\n",
    "tweets_new = tweets_new.merge(df_to_delete[['userid']], on='userid', how='left', indicator=True)\n",
    "tweets_new = tweets_new[tweets_new['_merge'] == 'left_only']\n",
    "tweets_new.drop('_merge', axis=1, inplace=True)"
   ]
  },
  {
   "cell_type": "code",
   "execution_count": 120,
   "id": "76910d3e-d13c-4353-ac8b-420eeb0a5578",
   "metadata": {},
   "outputs": [
    {
     "name": "stdout",
     "output_type": "stream",
     "text": [
      "39809 39809\n"
     ]
    }
   ],
   "source": [
    "print(len(tweets_new['userid'].unique()), len(users_new['userid'].unique()))"
   ]
  },
  {
   "cell_type": "code",
   "execution_count": 121,
   "id": "ccd603b1-f82f-4373-8a3b-334f63798795",
   "metadata": {},
   "outputs": [],
   "source": [
    "### lets set to original name datasets\n",
    "tweets = tweets_new\n",
    "users = users_new"
   ]
  },
  {
   "cell_type": "code",
   "execution_count": 122,
   "id": "aeab281d-fbf9-435b-ad50-07778b628e26",
   "metadata": {},
   "outputs": [],
   "source": [
    "### Time variables\n",
    "tweets['tweet_created_at'] = pd.to_datetime(tweets['tweet_created_at'])\n",
    "\n",
    "tweets['rounded_15min'] = tweets['tweet_created_at'].dt.floor('15min')\n",
    "tweet_counts = tweets.groupby(['userid', 'rounded_15min']).size().reset_index(name='tweet_count')\n",
    "\n",
    "user_summary_15min = tweet_counts.groupby('userid')['tweet_count'].agg(['max', 'min', 'std', 'mean']).reset_index()\n",
    "user_summary_15min.rename(columns={'max': 'max_tweets_15min', 'min': 'min_tweets_15min', 'std':'std_tweets_15_min', 'mean':'mean_tweets_15min'}, inplace=True)\n",
    "\n",
    "users = users.merge(user_summary_15min, on='userid', how='left')"
   ]
  },
  {
   "cell_type": "code",
   "execution_count": 123,
   "id": "b44d6bac-04d1-4293-a44e-7a5b856c134b",
   "metadata": {},
   "outputs": [],
   "source": [
    "### mean number of words in tweet\n",
    "tweets['text'] = tweets['text'].apply(lambda x: str(x) if isinstance(x, (str, float)) else '')\n",
    "tweets['word_count'] = tweets['text'].str.split().apply(len)\n",
    "ser_mean_word_count = tweets.groupby('userid')['word_count'].agg(['mean','std']).reset_index()\n",
    "ser_mean_word_count.rename(columns={'mean': 'mean_word_count','std':'std_word_count'}, inplace=True)\n",
    "users = users.merge(ser_mean_word_count, on='userid', how='left')"
   ]
  },
  {
   "cell_type": "code",
   "execution_count": 124,
   "id": "41249ed4-6964-4e96-b190-e9007b4e7f13",
   "metadata": {},
   "outputs": [],
   "source": [
    "## Mentions\n",
    "tweets['mentions_count'] = tweets['text'].str.count('@')\n",
    "mentions_count = tweets.groupby('userid')['mentions_count'].agg(['mean', 'std']).reset_index()\n",
    "mentions_count.rename(columns={'mean': 'mean_mentions_count', 'std':'std_mentions_count'}, inplace=True)\n",
    "users = users.merge(mentions_count, on='userid', how='left')"
   ]
  },
  {
   "cell_type": "code",
   "execution_count": 125,
   "id": "96d9715e-d8cb-4023-84b1-e85d03278084",
   "metadata": {},
   "outputs": [],
   "source": [
    "## Hashtags\n",
    "tweets['hashtags_counts'] = tweets['text'].str.count('#')\n",
    "hashtag_count = tweets.groupby('userid')['mentions_count'].agg(['mean', 'std']).reset_index()\n",
    "hashtag_count.rename(columns={'mean': 'mean_hashtag_count', 'std':'std_hashtag_count'}, inplace=True)\n",
    "users = users.merge(hashtag_count, on='userid', how='left')"
   ]
  },
  {
   "cell_type": "code",
   "execution_count": 126,
   "id": "e8d627fe-a6aa-4e6f-9de6-5fe6653428ce",
   "metadata": {},
   "outputs": [],
   "source": [
    "## URls\n",
    "tweets['urls_counts'] = tweets['text'].str.count('http')\n",
    "hashtag_count = tweets.groupby('userid')['urls_counts'].agg(['mean', 'std']).reset_index()\n",
    "hashtag_count.rename(columns={'mean': 'mean_urls_count', 'std':'std_urls_count'}, inplace=True)\n",
    "users = users.merge(hashtag_count, on='userid', how='left')"
   ]
  },
  {
   "cell_type": "code",
   "execution_count": 127,
   "id": "b6763cdc-bff7-46f8-b05b-e7eed5f980f7",
   "metadata": {},
   "outputs": [],
   "source": [
    "## followers to following ratio\n",
    "users['followers_to_following'] = np.where(users['following'] == 0, np.nan, users['followers'] / users['following'])"
   ]
  },
  {
   "cell_type": "code",
   "execution_count": 129,
   "id": "14863ed7-bf9d-456a-8ed5-e60daa92fd71",
   "metadata": {},
   "outputs": [],
   "source": [
    "users.to_csv('users_caverlee.csv', index = False)"
   ]
  }
 ],
 "metadata": {
  "kernelspec": {
   "display_name": "DASK 2022.10 (Python 3.10)",
   "language": "python",
   "name": "python3"
  },
  "language_info": {
   "codemirror_mode": {
    "name": "ipython",
    "version": 3
   },
   "file_extension": ".py",
   "mimetype": "text/x-python",
   "name": "python",
   "nbconvert_exporter": "python",
   "pygments_lexer": "ipython3",
   "version": "3.12.0"
  }
 },
 "nbformat": 4,
 "nbformat_minor": 5
}
